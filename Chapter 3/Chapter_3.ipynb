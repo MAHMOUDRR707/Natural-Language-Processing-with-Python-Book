{
  "nbformat": 4,
  "nbformat_minor": 0,
  "metadata": {
    "colab": {
      "provenance": []
    },
    "kernelspec": {
      "name": "python3",
      "display_name": "Python 3"
    },
    "language_info": {
      "name": "python"
    }
  },
  "cells": [
    {
      "cell_type": "code",
      "execution_count": 12,
      "metadata": {
        "id": "yopAKIiRNs8h"
      },
      "outputs": [],
      "source": [
        "#read html\n",
        "from urllib.request import urlopen\n",
        "raw =  urlopen(\"http://news.bbc.co.uk/2/hi/health/2284783.stm\").read()"
      ]
    },
    {
      "cell_type": "code",
      "source": [
        "\n",
        "raw[:60].decode(\"utf-8\")"
      ],
      "metadata": {
        "colab": {
          "base_uri": "https://localhost:8080/",
          "height": 36
        },
        "id": "N3g8qpcXx6ja",
        "outputId": "980b55e7-eec2-4ed5-9d8d-164e1f80f495"
      },
      "execution_count": 19,
      "outputs": [
        {
          "output_type": "execute_result",
          "data": {
            "text/plain": [
              "'<!doctype html public \"-//W3C//DTD HTML 4.0 Transitional//EN'"
            ],
            "application/vnd.google.colaboratory.intrinsic+json": {
              "type": "string"
            }
          },
          "metadata": {},
          "execution_count": 19
        }
      ]
    },
    {
      "cell_type": "code",
      "source": [
        "raw = raw.decode(\"utf-8\")"
      ],
      "metadata": {
        "id": "YmhFkiG57Btr"
      },
      "execution_count": 20,
      "outputs": []
    },
    {
      "cell_type": "code",
      "source": [
        "def clean_html(html):\n",
        "    \"\"\"\n",
        "    Copied from NLTK package.\n",
        "    Remove HTML markup from the given string.\n",
        "\n",
        "    :param html: the HTML string to be cleaned\n",
        "    :type html: str\n",
        "    :rtype: str\n",
        "    \"\"\"\n",
        "\n",
        "    # First we remove inline JavaScript/CSS:\n",
        "    cleaned = re.sub(r\"(?is)<(script|style).*?>.*?(</\\1>)\", \"\", html.strip())\n",
        "    # Then we remove html comments. This has to be done before removing regular\n",
        "    # tags since comments can contain '>' characters.\n",
        "    cleaned = re.sub(r\"(?s)<!--(.*?)-->[\\n]?\", \"\", cleaned)\n",
        "    # Next we can remove the remaining tags:\n",
        "    cleaned = re.sub(r\"(?s)<.*?>\", \" \", cleaned)\n",
        "    # Finally, we deal with whitespace\n",
        "    cleaned = re.sub(r\"&nbsp;\", \" \", cleaned)\n",
        "    cleaned = re.sub(r\"  \", \" \", cleaned)\n",
        "    cleaned = re.sub(r\"  \", \" \", cleaned)\n",
        "    return cleaned.strip()"
      ],
      "metadata": {
        "id": "HbNKo-8n6oC0"
      },
      "execution_count": 21,
      "outputs": []
    },
    {
      "cell_type": "code",
      "source": [
        "import nltk\n",
        "import re\n",
        "nltk.download('punkt')\n",
        "raw = clean_html(raw)\n",
        "tokens = nltk.word_tokenize(raw)"
      ],
      "metadata": {
        "colab": {
          "base_uri": "https://localhost:8080/"
        },
        "id": "wzqHXF7w6JXo",
        "outputId": "f70d4659-c859-4458-d07b-df097a6a44f4"
      },
      "execution_count": 22,
      "outputs": [
        {
          "output_type": "stream",
          "name": "stderr",
          "text": [
            "[nltk_data] Downloading package punkt to /root/nltk_data...\n",
            "[nltk_data]   Package punkt is already up-to-date!\n"
          ]
        }
      ]
    },
    {
      "cell_type": "code",
      "source": [
        "tokens[:10]"
      ],
      "metadata": {
        "colab": {
          "base_uri": "https://localhost:8080/"
        },
        "id": "rE-B3MP-6QvB",
        "outputId": "aeee2149-1b45-4f99-ff3f-3784d629d99a"
      },
      "execution_count": 23,
      "outputs": [
        {
          "output_type": "execute_result",
          "data": {
            "text/plain": [
              "['BBC', 'NEWS', '|', 'Health', '|', 'Blondes', \"'to\", 'die', 'out', 'in']"
            ]
          },
          "metadata": {},
          "execution_count": 23
        }
      ]
    },
    {
      "cell_type": "code",
      "source": [
        "type(tokens)"
      ],
      "metadata": {
        "colab": {
          "base_uri": "https://localhost:8080/"
        },
        "id": "e3dTkVBv7GAC",
        "outputId": "2556af18-dc6d-4d2b-c241-1c38da274b0e"
      },
      "execution_count": 24,
      "outputs": [
        {
          "output_type": "execute_result",
          "data": {
            "text/plain": [
              "list"
            ]
          },
          "metadata": {},
          "execution_count": 24
        }
      ]
    },
    {
      "cell_type": "code",
      "source": [
        "nltk.Text(tokens).concordance(\"gene\")"
      ],
      "metadata": {
        "colab": {
          "base_uri": "https://localhost:8080/"
        },
        "id": "nwRyCGEo7Mn8",
        "outputId": "ac5b8d21-d986-415b-e42e-550d51cc599b"
      },
      "execution_count": 28,
      "outputs": [
        {
          "output_type": "stream",
          "name": "stdout",
          "text": [
            "Displaying 7 of 7 matches:\n",
            "hey say too few people now carry the gene for blondes to last beyond the next \n",
            "blonde hair is caused by a recessive gene . In order for a child to have blond\n",
            " have blonde hair , it must have the gene on both sides of the family in the g\n",
            "ere is a disadvantage of having that gene or by chance . They do n't disappear\n",
            "des would disappear is if having the gene was a disadvantage and I do not thin\n",
            "r 's Polio campaign launched in Iraq Gene defect explains high blood pressure \n",
            "r 's Polio campaign launched in Iraq Gene defect explains high blood pressure \n"
          ]
        }
      ]
    },
    {
      "cell_type": "code",
      "source": [
        "import re\n",
        "ex =  [\"mahmoud\",\"reda\",\"ali\"]\n",
        "#find word has same end using search function\n",
        "print([w for w in ex if  re.search(\"ud$\",w)])"
      ],
      "metadata": {
        "colab": {
          "base_uri": "https://localhost:8080/"
        },
        "id": "CvSLcdry7Qf9",
        "outputId": "b5af2588-50a5-43fa-c375-e03128581c79"
      },
      "execution_count": 31,
      "outputs": [
        {
          "output_type": "stream",
          "name": "stdout",
          "text": [
            "['mahmoud']\n"
          ]
        }
      ]
    },
    {
      "cell_type": "code",
      "source": [
        "# to find word has same pattern\n",
        "print([w for w in ex if re.search(\"^..h.o..$\",w)])"
      ],
      "metadata": {
        "colab": {
          "base_uri": "https://localhost:8080/"
        },
        "id": "rB3RapNQczBN",
        "outputId": "eae6a66d-1af2-4798-def8-33df107f4e13"
      },
      "execution_count": 33,
      "outputs": [
        {
          "output_type": "stream",
          "name": "stdout",
          "text": [
            "['mahmoud']\n"
          ]
        }
      ]
    },
    {
      "cell_type": "code",
      "source": [
        "# to find word has same pattern with repeated letter\n",
        "ex =  [\"mahmoud\",\"reda\",\"ali\",\"reeeeeeda\",\"redddaaaa\"]\n",
        "print([w for w in ex if re.search(\"^r+e+d+a+$\",w)])"
      ],
      "metadata": {
        "colab": {
          "base_uri": "https://localhost:8080/"
        },
        "id": "jZ9AQQPYdMz1",
        "outputId": "72c183cc-5ef2-4dfa-9201-f984bb461257"
      },
      "execution_count": 38,
      "outputs": [
        {
          "output_type": "stream",
          "name": "stdout",
          "text": [
            "['reda', 'reeeeeeda', 'redddaaaa']\n"
          ]
        }
      ]
    },
    {
      "cell_type": "code",
      "source": [
        " from nltk.corpus import gutenberg, nps_chat\n",
        " nltk.download(\"nps_chat\")\n",
        " nltk.download(\"gutenberg\")\n",
        " moby = nltk.Text(gutenberg.words('melville-moby_dick.txt'))"
      ],
      "metadata": {
        "colab": {
          "base_uri": "https://localhost:8080/"
        },
        "id": "Y98steTofS60",
        "outputId": "fd948fba-345b-4ca8-ab81-4475d646c655"
      },
      "execution_count": 40,
      "outputs": [
        {
          "output_type": "stream",
          "name": "stderr",
          "text": [
            "[nltk_data] Downloading package nps_chat to /root/nltk_data...\n",
            "[nltk_data]   Package nps_chat is already up-to-date!\n",
            "[nltk_data] Downloading package gutenberg to /root/nltk_data...\n",
            "[nltk_data]   Unzipping corpora/gutenberg.zip.\n"
          ]
        }
      ]
    },
    {
      "cell_type": "code",
      "source": [
        "# what he should found  >>>>  a(or word has a inside) ..... man\n",
        "moby.findall(r\"<a> (<.*>) <man>\")"
      ],
      "metadata": {
        "colab": {
          "base_uri": "https://localhost:8080/"
        },
        "id": "T0BPJj7Ii3dr",
        "outputId": "ecf4f2d3-ed20-463a-81b7-1174459dbcc8"
      },
      "execution_count": 43,
      "outputs": [
        {
          "output_type": "stream",
          "name": "stdout",
          "text": [
            "monied; nervous; dangerous; white; white; white; pious; queer; good;\n",
            "mature; white; Cape; great; wise; wise; butterless; white; fiendish;\n",
            "pale; furious; better; certain; complete; dismasted; younger; brave;\n",
            "brave; brave; brave\n"
          ]
        }
      ]
    },
    {
      "cell_type": "code",
      "source": [
        "# what he should found  >>>>  ..... ..... man\n",
        "moby.findall(r\"<.*> <.*> <man>\")"
      ],
      "metadata": {
        "colab": {
          "base_uri": "https://localhost:8080/"
        },
        "id": "mRJQj7V5jNWF",
        "outputId": "d68d1150-d6b5-4d19-e688-0d4cf315dd62"
      },
      "execution_count": 48,
      "outputs": [
        {
          "output_type": "stream",
          "name": "stdout",
          "text": [
            "an artificial man; by any man; stand that man; which a man; a monied\n",
            "man; a nervous man; of a man; withered old man; any decent man; . This\n",
            "man; in a man; , this man; . No man; towards the man; a dangerous man;\n",
            "representing a man; a white man; ; a man; a white man; you this man;\n",
            "-- the man; having a man; , a man; is any man; any one man; And the\n",
            "man; in that man; . That man; nearly every man; of a man; ere a man;\n",
            "fine old man; red worsted man; of the man; the faithful man; ?\n",
            "Miserable man; of the man; be the man; though the man; any honest man;\n",
            "over the man; what is man; like a man; was a man; such a man; my\n",
            "fellow man; my fellow man; my fellow man; Because no man; a white man;\n",
            "e that man; the first man; with a man; to the man; scolding the man;\n",
            "the elderly man; flukes ! man; , young man; , young man; ! Young man;\n",
            ", young man; thou the man; in a man; -- that man; still a man; that a\n",
            "man; a pious man; s our man; this young man; this young man; this\n",
            "young man; an impenitent man; me , man; my young man; , young man; a\n",
            "queer man; - like man; a good man; , good man; swearing good man; ,\n",
            "young man; that old man; , young man; , young man; when a man;\n",
            "sensible young man; , young man; \" Young man; \" Young man; just the\n",
            "man; for a man; this crazy man; on the man; when a man; ; good man; ;\n",
            "a man; upon the man; terrors of man; know a man; account that man; , a\n",
            "man; a mature man; , that man; , earnest man; of the man; , steadfast\n",
            "man; have no man; utterly fearless man; careful a man; by a man; that\n",
            "a man; and mighty man; ; but man; - ruined man; Cod - man; , unfearing\n",
            "man; a white man; chess - man; a Cape man; like a man; old sepulchral\n",
            "man; any other man; For sleeping man; the less man; the old man;\n",
            "scornful old man; queerest old man; the old man; hot old man; that old\n",
            "man; the old man; my little man; my little man; Slid ! man; alive ,\n",
            "man; a great man; a wise man; a wise man; the old man; that , man; no\n",
            "better man; hunted by man; men are man; pursuit from man; - handed\n",
            "man; officer and man; made by man; required no man; be a man; , that\n",
            "man; ; that man; the old man; a butterless man; the first man; dreamy\n",
            "meditative man; the old man; excited old man; measurer , man; objects\n",
            ", man; . If man; blasphemy , man; master , man; crew , man; eyeing\n",
            "every man; men that man; yourselves ! man; Horrible old man; a white\n",
            "man; that old man; an old man; for mortal man; problem to man; the old\n",
            "man; towers of man; the very man; a fiendish man; ungodly old man; the\n",
            "old man; in any man; the white man; meant for man; the Albino man; ,\n",
            "no man; is mortal man; imagination no man; to the man; tall pale man;\n",
            "monomaniac old man; does that man; , old man; ; the man; . This man;\n",
            "irascible great man; drop of man; complete spiritual man; the\n",
            "manufactured man; line of man; turbaned old man; \" Every man; of a\n",
            "man; the little man; the dead man; than that man; of a man; when a\n",
            "man; over a man; the last man; wonderful old man; my little man; two\n",
            "legs man; any maimed man; earth to man; the first man; The best man;\n",
            "this old man; , each man; the old man; Terrible old man; any\n",
            "monomaniac man; insane old man; when a man; pirate , man; Nantucketer\n",
            "a man; against that man; such a man; . Any man; and infatuated man; of\n",
            "your man; drag their man; Not a man; the first man; admit one man;\n",
            "securing a man; a pale man; upon the man; the infatuated man; to the\n",
            "man; stupid Teneriffe man; the Teneriffe man; a furious man; took one\n",
            "man; avocation of man; is half man; long experienced man; for mortal\n",
            "man; has that man; restores a man; however baby man; impressions ,\n",
            "man; foe to man; soul of man; startled every man; seen by man; of\n",
            "every man; of this man; or that man; and no man; ; each man; every\n",
            "killed man; the old man; old brack man; the old man; That mortal man;\n",
            "that a man; the first man; , any man; of a man; no single man; , like\n",
            "man; is to man; Oh , man; , O man; some timid man; a better man;\n",
            "better , man; soul of man; was a man; , youngish man; a certain man;\n",
            "such a man; not a man; epidemic , man; men to man; but the man; ; the\n",
            "man; the old man; me , man; ,-- the man; less a man; touch a man; -\n",
            "drowned man; the old man; the old man; the old man; the same man;\n",
            "hunted by man; of a man; of a man; as a man; subtle than man; if a\n",
            "man; by any man; name , man; beings than man; nay in man; , in man; of\n",
            "every man; -- This man; of a man; the best man; you the man; the\n",
            "stoutest man; let no man; . Any man; as a man; ; a man; in a man; ! In\n",
            "man; makes a man; of a man; of the man; . In man; conflicts with man;\n",
            "ribs of man; hand of man; seen no man; ye , man; tasted by man; that\n",
            "the man; A common man; militant old man; our old man; Guernsey - man;\n",
            "Guernsey - man; Guernsey - man; Guernsey - man; Guernsey - man;\n",
            "Guernsey - man; delicate looking man; Guernsey - man; Guernsey - man;\n",
            "Guernsey - man; Guernsey - man; with the man; Guernsey - man; that\n",
            "though man; , yet man; . So man; reason , man; all cases man; spade -\n",
            "man; spade - man; -- one man; , O man; that mortal man; that mortal\n",
            "man; not that man; \" the man; at last man; this is man; and every man;\n",
            "fit that man; The old man; life of man; the old man; - looking man; -\n",
            "ornamented man; - legged man; alive , man; any other man; total\n",
            "abstinence man; even a man; \" this man; very learned man; beer per\n",
            "man; timid untravelled man; began with man; prior to man; the last\n",
            "man; spear of man; pursuit from man; brow of man; high abstracted man;\n",
            "was this man; hold , man; a complete man; for , man; a dismasted man;\n",
            "is , man; wondrous old man; s , man; A better man; a younger man; ,\n",
            "old man; fearful in man; Not a man; the sick man; if a man; ,\n",
            "civilized man; the old man; this old man; this old man; an old man;\n",
            "useless old man; familyless old man; aye , man; , old man; thyself ,\n",
            "man; them , man; , old man; , old man; , old man; , old man; as one\n",
            "man; that cast man; glances of man; frantic old man; . Old man; a\n",
            "brave man; a brave man; a brave man; sheets , man; stove , man; now ,\n",
            "man; , old man; , old man; , old man; my little man; aye , man; have\n",
            "every man; ? any man; tying a man; , the man; the old man; , upright\n",
            "man; crazed old man; , old man; this old man; , old man; the old man;\n",
            "the old man; the old man; the old man; the old man; s a man; ; a man;\n",
            "! that man; as a man; and in man; of suffering man; ; and man; rise\n",
            "this man; with the man; the first man; ; that man; ye , man; yon old\n",
            "man; ! So man; as the man; every other man; ye , man; fidelity of man;\n",
            "the old man; the old man; -- one man; monomaniac old man; some one\n",
            "man; one only man; the very man; the old man; , old man; robust and\n",
            "man; the old man; than a man; glass , man; heaven , man; go , man; the\n",
            "old man; steady , man; dumb , man; keener than man; the old man; me ,\n",
            "man; the old man; Man , man; outright to man; is that man; were one\n",
            "man; , this man; , that man; but one man; the old man; , nor man; body\n",
            ", man; The old man; , old man; the last man; Ahab , man; an old man;\n",
            "night - man; for mortal man; outrage mortal man; now between man; me ,\n",
            "man; a brave man; the old man; the third man; that mortal man\n"
          ]
        },
        {
          "output_type": "execute_result",
          "data": {
            "text/plain": [
              "[None]"
            ]
          },
          "metadata": {},
          "execution_count": 48
        }
      ]
    },
    {
      "cell_type": "code",
      "source": [
        " # what should find is word start with l and has 3 letters after or less\n",
        " moby.findall(r\"<l.*>{3,}\")"
      ],
      "metadata": {
        "colab": {
          "base_uri": "https://localhost:8080/"
        },
        "id": "OJuLxtDFjcRG",
        "outputId": "ce0a573b-e8e9-4159-e26c-11cbf7142635"
      },
      "execution_count": 49,
      "outputs": [
        {
          "output_type": "stream",
          "name": "stdout",
          "text": [
            "little lower layer; little lower layer; lances lie levelled; long\n",
            "lance lightly; like live legs\n"
          ]
        }
      ]
    },
    {
      "cell_type": "code",
      "source": [
        "x = \"we play footbal (all day in the club) hello mahmoud\"\n",
        "print(x.split(\" \"))\n"
      ],
      "metadata": {
        "colab": {
          "base_uri": "https://localhost:8080/"
        },
        "id": "gjWtpe7vj6CN",
        "outputId": "0a6f9715-9af2-4bfd-b4fd-36db371bef82"
      },
      "execution_count": 55,
      "outputs": [
        {
          "output_type": "stream",
          "name": "stdout",
          "text": [
            "['we', 'play', 'footbal', '(all', 'day', 'in', 'the', 'club)', 'hello', 'mahmoud']\n"
          ]
        }
      ]
    },
    {
      "cell_type": "code",
      "source": [
        "# \\W Any non-alphanumeric character (equivalent to [^a-zA-Z0-9_])\n",
        "# \\w Any alphanumeric character (equivalent to [a-zA-Z0-9_])\n",
        "print(re.split(\"\\W+\",x))"
      ],
      "metadata": {
        "colab": {
          "base_uri": "https://localhost:8080/"
        },
        "id": "Nmcl3FY1j9mm",
        "outputId": "3648608b-0c99-46d0-bf47-ec33efae86ed"
      },
      "execution_count": 57,
      "outputs": [
        {
          "output_type": "stream",
          "name": "stdout",
          "text": [
            "['we', 'play', 'footbal', 'all', 'day', 'in', 'the', 'club', 'hello', 'mahmoud']\n"
          ]
        }
      ]
    },
    {
      "cell_type": "code",
      "source": [],
      "metadata": {
        "id": "DzoxHAKtnuM2"
      },
      "execution_count": null,
      "outputs": []
    }
  ]
}