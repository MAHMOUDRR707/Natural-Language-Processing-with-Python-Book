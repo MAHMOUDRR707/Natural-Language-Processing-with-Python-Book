{
  "nbformat": 4,
  "nbformat_minor": 0,
  "metadata": {
    "colab": {
      "provenance": []
    },
    "kernelspec": {
      "name": "python3",
      "display_name": "Python 3"
    },
    "language_info": {
      "name": "python"
    }
  },
  "cells": [
    {
      "cell_type": "code",
      "execution_count": 11,
      "metadata": {
        "id": "VYXXo_m_gDYY",
        "colab": {
          "base_uri": "https://localhost:8080/"
        },
        "outputId": "37aeb72a-2dd3-4ff9-d820-689ec058c7ea"
      },
      "outputs": [
        {
          "output_type": "stream",
          "name": "stderr",
          "text": [
            "[nltk_data] Downloading package nps_chat to /root/nltk_data...\n",
            "[nltk_data]   Package nps_chat is already up-to-date!\n",
            "[nltk_data] Downloading package punkt to /root/nltk_data...\n",
            "[nltk_data]   Unzipping tokenizers/punkt.zip.\n"
          ]
        }
      ],
      "source": [
        "import nltk\n",
        "nltk.download('nps_chat')\n",
        "nltk.download('punkt')\n",
        "posts = nltk.corpus.nps_chat.xml_posts()[:10000]\n"
      ]
    },
    {
      "cell_type": "code",
      "source": [
        "text = \"\"\n",
        "for i in posts[:100] :\n",
        "  text += i.text\n",
        "\n",
        "print(text)"
      ],
      "metadata": {
        "colab": {
          "base_uri": "https://localhost:8080/"
        },
        "id": "202X51up-srd",
        "outputId": "3b00021f-e790-416c-953b-2f38066c95e3"
      },
      "execution_count": 12,
      "outputs": [
        {
          "output_type": "stream",
          "name": "stdout",
          "text": [
            "now im left with this gay name:PPARThey everyone  ah wellNICK :10-19-20sUser710-19-20sUser7 is a gay name..ACTION gives 10-19-20sUser121 a golf clap.:)JOINhi 10-19-20sUser5926/ m/ ky women that are nice please pm meJOINPARTthere ya go 10-19-20sUser7don't golf clap me.fuck you 10-19-20sUser121:@whats everyone up to?PARTPARTi'll thunder clap your ass.PARTand i dont even know what that means.that sounds painfulany ladis wanna chat? 29 m26/mJOINmy cousin drew a messed up pic on my castPART24/mboo.26/m and sexylol 10-19-20sUser115boo.JOINPARThe drew a girl with legs spreadboo.hope he didnt draw a penisPARTewwwww lol& a head between her legsJOINJOINsounds good to me.r u seriousJOINPARTI'll take one, please.& i have to go to the docs tomorrowya manI am too.. Connected to... Slip away... Fade away... Days away I... Still feel you... Touching me... Changing me... Considerably killing me... heeeey!don't you have a sharpie?26/myou're back 10-19-20sUser11510-19-20sUser129yep10-19-20sUser115Any ladies wanna chat with 24/mhurry ladiesPARTJOINJOINnot fast enough 10-19-20sUser116a bowl i got a blunt an a bong......lolJOINwell, glad it worked outmy chair is too hard.Anyone from Tennessee in here?hey ladiesas am iis 10-19-20sUser68 back yetPARThey PARTJOIN10-19-20sUser121 is missing a B in her nameand i don't complain about things being hard very often.okyes 10-19-20sUser30fire it upAny women from Nashville in here?JOINPARTand an an \"itch\"JOINyo, 10-19-20sUser133or a \"ogan\"are you a male?JOINJOINshow willlet's talk.PART:)hahabrboppsJOIN\n"
          ]
        }
      ]
    },
    {
      "cell_type": "code",
      "source": [
        "def dialogue_act_features(post):\n",
        "    features = {}\n",
        "    for word in nltk.word_tokenize(post):\n",
        "           features['contains(%s)' % word.lower()] = True\n",
        "    return features"
      ],
      "metadata": {
        "id": "3bMP9QDK_J_D"
      },
      "execution_count": 13,
      "outputs": []
    },
    {
      "cell_type": "code",
      "source": [
        "dialogue_act_features(text)"
      ],
      "metadata": {
        "colab": {
          "base_uri": "https://localhost:8080/"
        },
        "id": "qYbsnXw4MkNU",
        "outputId": "52efd26a-5adf-41e2-f0a8-72cd1fab4a76"
      },
      "execution_count": 14,
      "outputs": [
        {
          "output_type": "execute_result",
          "data": {
            "text/plain": [
              "{'contains(now)': True,\n",
              " 'contains(im)': True,\n",
              " 'contains(left)': True,\n",
              " 'contains(with)': True,\n",
              " 'contains(this)': True,\n",
              " 'contains(gay)': True,\n",
              " 'contains(name)': True,\n",
              " 'contains(:)': True,\n",
              " 'contains(pparthey)': True,\n",
              " 'contains(everyone)': True,\n",
              " 'contains(ah)': True,\n",
              " 'contains(wellnick)': True,\n",
              " 'contains(:10-19-20suser710-19-20suser7)': True,\n",
              " 'contains(is)': True,\n",
              " 'contains(a)': True,\n",
              " 'contains(..)': True,\n",
              " 'contains(action)': True,\n",
              " 'contains(gives)': True,\n",
              " 'contains(10-19-20suser121)': True,\n",
              " 'contains(golf)': True,\n",
              " 'contains(clap)': True,\n",
              " 'contains(.)': True,\n",
              " 'contains())': True,\n",
              " 'contains(joinhi)': True,\n",
              " 'contains(10-19-20suser5926/)': True,\n",
              " 'contains(m/)': True,\n",
              " 'contains(ky)': True,\n",
              " 'contains(women)': True,\n",
              " 'contains(that)': True,\n",
              " 'contains(are)': True,\n",
              " 'contains(nice)': True,\n",
              " 'contains(please)': True,\n",
              " 'contains(pm)': True,\n",
              " 'contains(mejoinpartthere)': True,\n",
              " 'contains(ya)': True,\n",
              " 'contains(go)': True,\n",
              " 'contains(10-19-20suser7do)': True,\n",
              " \"contains(n't)\": True,\n",
              " 'contains(me.fuck)': True,\n",
              " 'contains(you)': True,\n",
              " 'contains(@)': True,\n",
              " 'contains(whats)': True,\n",
              " 'contains(up)': True,\n",
              " 'contains(to)': True,\n",
              " 'contains(?)': True,\n",
              " 'contains(partparti)': True,\n",
              " \"contains('ll)\": True,\n",
              " 'contains(thunder)': True,\n",
              " 'contains(your)': True,\n",
              " 'contains(ass.partand)': True,\n",
              " 'contains(i)': True,\n",
              " 'contains(dont)': True,\n",
              " 'contains(even)': True,\n",
              " 'contains(know)': True,\n",
              " 'contains(what)': True,\n",
              " 'contains(means.that)': True,\n",
              " 'contains(sounds)': True,\n",
              " 'contains(painfulany)': True,\n",
              " 'contains(ladis)': True,\n",
              " 'contains(wan)': True,\n",
              " 'contains(na)': True,\n",
              " 'contains(chat)': True,\n",
              " 'contains(29)': True,\n",
              " 'contains(m26/mjoinmy)': True,\n",
              " 'contains(cousin)': True,\n",
              " 'contains(drew)': True,\n",
              " 'contains(messed)': True,\n",
              " 'contains(pic)': True,\n",
              " 'contains(on)': True,\n",
              " 'contains(my)': True,\n",
              " 'contains(castpart24/mboo.26/m)': True,\n",
              " 'contains(and)': True,\n",
              " 'contains(sexylol)': True,\n",
              " 'contains(10-19-20suser115boo.joinparthe)': True,\n",
              " 'contains(girl)': True,\n",
              " 'contains(legs)': True,\n",
              " 'contains(spreadboo.hope)': True,\n",
              " 'contains(he)': True,\n",
              " 'contains(didnt)': True,\n",
              " 'contains(draw)': True,\n",
              " 'contains(penispartewwwww)': True,\n",
              " 'contains(lol)': True,\n",
              " 'contains(&)': True,\n",
              " 'contains(head)': True,\n",
              " 'contains(between)': True,\n",
              " 'contains(her)': True,\n",
              " 'contains(legsjoinjoinsounds)': True,\n",
              " 'contains(good)': True,\n",
              " 'contains(me.r)': True,\n",
              " 'contains(u)': True,\n",
              " 'contains(seriousjoinparti)': True,\n",
              " 'contains(take)': True,\n",
              " 'contains(one)': True,\n",
              " 'contains(,)': True,\n",
              " 'contains(please.)': True,\n",
              " 'contains(have)': True,\n",
              " 'contains(the)': True,\n",
              " 'contains(docs)': True,\n",
              " 'contains(tomorrowya)': True,\n",
              " 'contains(mani)': True,\n",
              " 'contains(am)': True,\n",
              " 'contains(too)': True,\n",
              " 'contains(connected)': True,\n",
              " 'contains(...)': True,\n",
              " 'contains(slip)': True,\n",
              " 'contains(away)': True,\n",
              " 'contains(fade)': True,\n",
              " 'contains(days)': True,\n",
              " 'contains(still)': True,\n",
              " 'contains(feel)': True,\n",
              " 'contains(touching)': True,\n",
              " 'contains(me)': True,\n",
              " 'contains(changing)': True,\n",
              " 'contains(considerably)': True,\n",
              " 'contains(killing)': True,\n",
              " 'contains(heeeey)': True,\n",
              " 'contains(!)': True,\n",
              " 'contains(do)': True,\n",
              " 'contains(sharpie)': True,\n",
              " 'contains(26/myou)': True,\n",
              " \"contains('re)\": True,\n",
              " 'contains(back)': True,\n",
              " 'contains(10-19-20suser11510-19-20suser129yep10-19-20suser115any)': True,\n",
              " 'contains(ladies)': True,\n",
              " 'contains(24/mhurry)': True,\n",
              " 'contains(ladiespartjoinjoinnot)': True,\n",
              " 'contains(fast)': True,\n",
              " 'contains(enough)': True,\n",
              " 'contains(10-19-20suser116a)': True,\n",
              " 'contains(bowl)': True,\n",
              " 'contains(got)': True,\n",
              " 'contains(blunt)': True,\n",
              " 'contains(an)': True,\n",
              " 'contains(bong)': True,\n",
              " 'contains(......)': True,\n",
              " 'contains(loljoinwell)': True,\n",
              " 'contains(glad)': True,\n",
              " 'contains(it)': True,\n",
              " 'contains(worked)': True,\n",
              " 'contains(outmy)': True,\n",
              " 'contains(chair)': True,\n",
              " 'contains(hard.anyone)': True,\n",
              " 'contains(from)': True,\n",
              " 'contains(tennessee)': True,\n",
              " 'contains(in)': True,\n",
              " 'contains(here)': True,\n",
              " 'contains(hey)': True,\n",
              " 'contains(ladiesas)': True,\n",
              " 'contains(iis)': True,\n",
              " 'contains(10-19-20suser68)': True,\n",
              " 'contains(yetparthey)': True,\n",
              " 'contains(partjoin10-19-20suser121)': True,\n",
              " 'contains(missing)': True,\n",
              " 'contains(b)': True,\n",
              " 'contains(nameand)': True,\n",
              " 'contains(complain)': True,\n",
              " 'contains(about)': True,\n",
              " 'contains(things)': True,\n",
              " 'contains(being)': True,\n",
              " 'contains(hard)': True,\n",
              " 'contains(very)': True,\n",
              " 'contains(often.okyes)': True,\n",
              " 'contains(10-19-20suser30fire)': True,\n",
              " 'contains(upany)': True,\n",
              " 'contains(nashville)': True,\n",
              " 'contains(joinpartand)': True,\n",
              " 'contains(``)': True,\n",
              " 'contains(itch)': True,\n",
              " \"contains('')\": True,\n",
              " 'contains(joinyo)': True,\n",
              " 'contains(10-19-20suser133or)': True,\n",
              " 'contains(ogan)': True,\n",
              " 'contains(male)': True,\n",
              " 'contains(joinjoinshow)': True,\n",
              " 'contains(willlet)': True,\n",
              " \"contains('s)\": True,\n",
              " 'contains(talk.part)': True,\n",
              " 'contains(hahabrboppsjoin)': True}"
            ]
          },
          "metadata": {},
          "execution_count": 14
        }
      ]
    },
    {
      "cell_type": "code",
      "source": [
        "featuresets = [(dialogue_act_features(post.text), post.get('class')) for post in posts]\n",
        "size = int(len(featuresets) * 0.1)\n",
        "train_set, test_set = featuresets[size:], featuresets[:size]\n",
        "classifier = nltk.NaiveBayesClassifier.train(train_set)\n",
        "nltk.classify.accuracy(classifier, test_set)"
      ],
      "metadata": {
        "colab": {
          "base_uri": "https://localhost:8080/"
        },
        "id": "2_rRJ0abAEbM",
        "outputId": "0ca0d1b5-7d42-4c70-db59-0bfd09750004"
      },
      "execution_count": 15,
      "outputs": [
        {
          "output_type": "execute_result",
          "data": {
            "text/plain": [
              "0.667"
            ]
          },
          "metadata": {},
          "execution_count": 15
        }
      ]
    },
    {
      "cell_type": "code",
      "source": [
        "featuresets[:10]"
      ],
      "metadata": {
        "colab": {
          "base_uri": "https://localhost:8080/"
        },
        "id": "Eu950C6SMdcq",
        "outputId": "30374fde-a637-4b67-d58e-3f79e0cb47f7"
      },
      "execution_count": 16,
      "outputs": [
        {
          "output_type": "execute_result",
          "data": {
            "text/plain": [
              "[({'contains(now)': True,\n",
              "   'contains(im)': True,\n",
              "   'contains(left)': True,\n",
              "   'contains(with)': True,\n",
              "   'contains(this)': True,\n",
              "   'contains(gay)': True,\n",
              "   'contains(name)': True},\n",
              "  'Statement'),\n",
              " ({'contains(:)': True, 'contains(p)': True}, 'Emotion'),\n",
              " ({'contains(part)': True}, 'System'),\n",
              " ({'contains(hey)': True, 'contains(everyone)': True}, 'Greet'),\n",
              " ({'contains(ah)': True, 'contains(well)': True}, 'Statement'),\n",
              " ({'contains(nick)': True, 'contains(:10-19-20suser7)': True}, 'System'),\n",
              " ({'contains(10-19-20suser7)': True,\n",
              "   'contains(is)': True,\n",
              "   'contains(a)': True,\n",
              "   'contains(gay)': True,\n",
              "   'contains(name)': True,\n",
              "   'contains(.)': True},\n",
              "  'Accept'),\n",
              " ({'contains(.action)': True,\n",
              "   'contains(gives)': True,\n",
              "   'contains(10-19-20suser121)': True,\n",
              "   'contains(a)': True,\n",
              "   'contains(golf)': True,\n",
              "   'contains(clap)': True,\n",
              "   'contains(.)': True},\n",
              "  'System'),\n",
              " ({'contains(:)': True, 'contains())': True}, 'Emotion'),\n",
              " ({'contains(join)': True}, 'System')]"
            ]
          },
          "metadata": {},
          "execution_count": 16
        }
      ]
    },
    {
      "cell_type": "code",
      "source": [
        "def rte_features(rtepair):\n",
        " extractor = nltk.RTEFeatureExtractor(rtepair)\n",
        " features = {}\n",
        " features['word_overlap'] = len(extractor.overlap('word'))\n",
        " features['word_hyp_extra'] = len(extractor.hyp_extra('word'))\n",
        " features['ne_overlap'] = len(extractor.overlap('ne'))\n",
        " features['ne_hyp_extra'] = len(extractor.hyp_extra('ne'))\n",
        " return feature"
      ],
      "metadata": {
        "id": "s7COQX-lNeHU"
      },
      "execution_count": 17,
      "outputs": []
    },
    {
      "cell_type": "code",
      "source": [
        "nltk.download('rte')\n",
        "rtepair = nltk.corpus.rte.pairs(['rte3_dev.xml'])[33]\n",
        "print(rtepair.text)\n",
        "extractor = nltk.RTEFeatureExtractor(rtepair)\n",
        "extractor.text_words"
      ],
      "metadata": {
        "colab": {
          "base_uri": "https://localhost:8080/"
        },
        "id": "3F2v5mx5dRou",
        "outputId": "f851fcc9-dfb1-4623-8b06-794b20bd0da6"
      },
      "execution_count": 21,
      "outputs": [
        {
          "output_type": "stream",
          "name": "stdout",
          "text": [
            "Parviz Davudi was representing Iran at a meeting of the Shanghai Co-operation Organisation (SCO), the fledgling association that binds Russia, China and four former Soviet republics of central Asia together to fight terrorism.\n"
          ]
        },
        {
          "output_type": "stream",
          "name": "stderr",
          "text": [
            "[nltk_data] Downloading package rte to /root/nltk_data...\n",
            "[nltk_data]   Package rte is already up-to-date!\n"
          ]
        },
        {
          "output_type": "execute_result",
          "data": {
            "text/plain": [
              "{'Asia',\n",
              " 'China',\n",
              " 'Co',\n",
              " 'Davudi',\n",
              " 'Iran',\n",
              " 'Organisation',\n",
              " 'Parviz',\n",
              " 'Russia',\n",
              " 'SCO',\n",
              " 'Shanghai',\n",
              " 'Soviet',\n",
              " 'association',\n",
              " 'at',\n",
              " 'binds',\n",
              " 'central',\n",
              " 'fight',\n",
              " 'fledgling',\n",
              " 'former',\n",
              " 'four',\n",
              " 'meeting',\n",
              " 'operation',\n",
              " 'representing',\n",
              " 'republics',\n",
              " 'terrorism.',\n",
              " 'that',\n",
              " 'together',\n",
              " 'was'}"
            ]
          },
          "metadata": {},
          "execution_count": 21
        }
      ]
    },
    {
      "cell_type": "code",
      "source": [
        "extractor.hyp_words"
      ],
      "metadata": {
        "colab": {
          "base_uri": "https://localhost:8080/"
        },
        "id": "Ip-qyYFmeWAw",
        "outputId": "bb488217-05d4-4de1-af14-93a9727da62e"
      },
      "execution_count": 22,
      "outputs": [
        {
          "output_type": "execute_result",
          "data": {
            "text/plain": [
              "{'China', 'SCO.', 'member'}"
            ]
          },
          "metadata": {},
          "execution_count": 22
        }
      ]
    },
    {
      "cell_type": "code",
      "source": [
        "extractor.hyp_extra('word')"
      ],
      "metadata": {
        "colab": {
          "base_uri": "https://localhost:8080/"
        },
        "id": "7_x8m798nlkk",
        "outputId": "32392e21-509a-444f-c256-d02cbe48af93"
      },
      "execution_count": 23,
      "outputs": [
        {
          "output_type": "execute_result",
          "data": {
            "text/plain": [
              "{'member'}"
            ]
          },
          "metadata": {},
          "execution_count": 23
        }
      ]
    },
    {
      "cell_type": "code",
      "source": [
        "extractor.overlap('ne')"
      ],
      "metadata": {
        "colab": {
          "base_uri": "https://localhost:8080/"
        },
        "id": "des1w75stmO7",
        "outputId": "3ac8957d-1de0-4732-a03d-8f8a34e4894b"
      },
      "execution_count": 24,
      "outputs": [
        {
          "output_type": "execute_result",
          "data": {
            "text/plain": [
              "{'China'}"
            ]
          },
          "metadata": {},
          "execution_count": 24
        }
      ]
    },
    {
      "cell_type": "code",
      "source": [],
      "metadata": {
        "id": "AH01HqCjtsWz"
      },
      "execution_count": null,
      "outputs": []
    }
  ]
}